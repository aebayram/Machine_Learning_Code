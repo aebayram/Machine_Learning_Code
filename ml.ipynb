{
 "cells": [
  {
   "cell_type": "raw",
   "id": "010b8a9b-0b55-4743-a728-fdd7a2ca5eeb",
   "metadata": {},
   "source": [
    "SORU: ACME Sigorta A.Ş. binlerce müşteriye uygun fiyatlı sağlık sigortası sunuyor. \n",
    "\n",
    "ACME'nin lider veri bilimcisi olarak, yaş, cinsiyet, BMI, çocuklar, sigara içme alışkanlıkları ve ikamet ettikleri bölge gibi bilgileri kullanarak yeni müşterilerin yıllık tıbbi harcamalarını tahmin etmek için otomatik bir sistem oluşturmakla görevlendirildiniz.\n",
    "\n",
    "Müşteriye sunulan yıllık sigorta priminin (her ay ödenen tutar) belirlenmesinde sisteminizden yapılan tahminler kullanılacaktır. Mevzuat gereklilikleri nedeniyle, sisteminizin neden belirli bir tahminde bulunduğunu açıklayabilmeniz gerekir.\n",
    "\n",
    "Yukarıda belirtilen bilgileri ve 1300'den fazla müşterinin maruz kaldığı gerçek tıbbi masrafları içeren, doğrulanmış geçmiş verileri içeren bir CSV dosyası size verilir."
   ]
  },
  {
   "cell_type": "code",
   "execution_count": 1,
   "id": "6dd0934a-5cd1-4c44-b5a9-6df22bf8cadb",
   "metadata": {},
   "outputs": [],
   "source": [
    "import pandas as pd"
   ]
  },
  {
   "cell_type": "code",
   "execution_count": 2,
   "id": "a69c717f-f74e-46b4-a75b-93bbcc6842af",
   "metadata": {},
   "outputs": [],
   "source": [
    "medical_df = pd.read_csv('data/medical.csv')"
   ]
  },
  {
   "cell_type": "code",
   "execution_count": 21,
   "id": "1d4ffe5a-bc46-4bd1-ab63-26a7ef351e5e",
   "metadata": {
    "scrolled": true
   },
   "outputs": [
    {
     "data": {
      "text/html": [
       "<div>\n",
       "<style scoped>\n",
       "    .dataframe tbody tr th:only-of-type {\n",
       "        vertical-align: middle;\n",
       "    }\n",
       "\n",
       "    .dataframe tbody tr th {\n",
       "        vertical-align: top;\n",
       "    }\n",
       "\n",
       "    .dataframe thead th {\n",
       "        text-align: right;\n",
       "    }\n",
       "</style>\n",
       "<table border=\"1\" class=\"dataframe\">\n",
       "  <thead>\n",
       "    <tr style=\"text-align: right;\">\n",
       "      <th></th>\n",
       "      <th>age</th>\n",
       "      <th>sex</th>\n",
       "      <th>bmi</th>\n",
       "      <th>children</th>\n",
       "      <th>smoker</th>\n",
       "      <th>region</th>\n",
       "      <th>charges</th>\n",
       "    </tr>\n",
       "  </thead>\n",
       "  <tbody>\n",
       "    <tr>\n",
       "      <th>0</th>\n",
       "      <td>19</td>\n",
       "      <td>female</td>\n",
       "      <td>27.900</td>\n",
       "      <td>0</td>\n",
       "      <td>yes</td>\n",
       "      <td>southwest</td>\n",
       "      <td>16884.92400</td>\n",
       "    </tr>\n",
       "    <tr>\n",
       "      <th>1</th>\n",
       "      <td>18</td>\n",
       "      <td>male</td>\n",
       "      <td>33.770</td>\n",
       "      <td>1</td>\n",
       "      <td>no</td>\n",
       "      <td>southeast</td>\n",
       "      <td>1725.55230</td>\n",
       "    </tr>\n",
       "    <tr>\n",
       "      <th>2</th>\n",
       "      <td>28</td>\n",
       "      <td>male</td>\n",
       "      <td>33.000</td>\n",
       "      <td>3</td>\n",
       "      <td>no</td>\n",
       "      <td>southeast</td>\n",
       "      <td>4449.46200</td>\n",
       "    </tr>\n",
       "    <tr>\n",
       "      <th>3</th>\n",
       "      <td>33</td>\n",
       "      <td>male</td>\n",
       "      <td>22.705</td>\n",
       "      <td>0</td>\n",
       "      <td>no</td>\n",
       "      <td>northwest</td>\n",
       "      <td>21984.47061</td>\n",
       "    </tr>\n",
       "    <tr>\n",
       "      <th>4</th>\n",
       "      <td>32</td>\n",
       "      <td>male</td>\n",
       "      <td>28.880</td>\n",
       "      <td>0</td>\n",
       "      <td>no</td>\n",
       "      <td>northwest</td>\n",
       "      <td>3866.85520</td>\n",
       "    </tr>\n",
       "    <tr>\n",
       "      <th>...</th>\n",
       "      <td>...</td>\n",
       "      <td>...</td>\n",
       "      <td>...</td>\n",
       "      <td>...</td>\n",
       "      <td>...</td>\n",
       "      <td>...</td>\n",
       "      <td>...</td>\n",
       "    </tr>\n",
       "    <tr>\n",
       "      <th>1333</th>\n",
       "      <td>50</td>\n",
       "      <td>male</td>\n",
       "      <td>30.970</td>\n",
       "      <td>3</td>\n",
       "      <td>no</td>\n",
       "      <td>northwest</td>\n",
       "      <td>10600.54830</td>\n",
       "    </tr>\n",
       "    <tr>\n",
       "      <th>1334</th>\n",
       "      <td>18</td>\n",
       "      <td>female</td>\n",
       "      <td>31.920</td>\n",
       "      <td>0</td>\n",
       "      <td>no</td>\n",
       "      <td>northeast</td>\n",
       "      <td>2205.98080</td>\n",
       "    </tr>\n",
       "    <tr>\n",
       "      <th>1335</th>\n",
       "      <td>18</td>\n",
       "      <td>female</td>\n",
       "      <td>36.850</td>\n",
       "      <td>0</td>\n",
       "      <td>no</td>\n",
       "      <td>southeast</td>\n",
       "      <td>1629.83350</td>\n",
       "    </tr>\n",
       "    <tr>\n",
       "      <th>1336</th>\n",
       "      <td>21</td>\n",
       "      <td>female</td>\n",
       "      <td>25.800</td>\n",
       "      <td>0</td>\n",
       "      <td>no</td>\n",
       "      <td>southwest</td>\n",
       "      <td>2007.94500</td>\n",
       "    </tr>\n",
       "    <tr>\n",
       "      <th>1337</th>\n",
       "      <td>61</td>\n",
       "      <td>female</td>\n",
       "      <td>29.070</td>\n",
       "      <td>0</td>\n",
       "      <td>yes</td>\n",
       "      <td>northwest</td>\n",
       "      <td>29141.36030</td>\n",
       "    </tr>\n",
       "  </tbody>\n",
       "</table>\n",
       "<p>1338 rows × 7 columns</p>\n",
       "</div>"
      ],
      "text/plain": [
       "      age     sex     bmi  children smoker     region      charges\n",
       "0      19  female  27.900         0    yes  southwest  16884.92400\n",
       "1      18    male  33.770         1     no  southeast   1725.55230\n",
       "2      28    male  33.000         3     no  southeast   4449.46200\n",
       "3      33    male  22.705         0     no  northwest  21984.47061\n",
       "4      32    male  28.880         0     no  northwest   3866.85520\n",
       "...   ...     ...     ...       ...    ...        ...          ...\n",
       "1333   50    male  30.970         3     no  northwest  10600.54830\n",
       "1334   18  female  31.920         0     no  northeast   2205.98080\n",
       "1335   18  female  36.850         0     no  southeast   1629.83350\n",
       "1336   21  female  25.800         0     no  southwest   2007.94500\n",
       "1337   61  female  29.070         0    yes  northwest  29141.36030\n",
       "\n",
       "[1338 rows x 7 columns]"
      ]
     },
     "execution_count": 21,
     "metadata": {},
     "output_type": "execute_result"
    }
   ],
   "source": [
    "medical_df"
   ]
  },
  {
   "cell_type": "raw",
   "id": "44186ce0-2209-406f-adc2-1b80fa189b5a",
   "metadata": {},
   "source": [
    "Veri kümesi 1338 satır ve 7 sütun içermektedir. \n",
    "Veri kümesinin her satırı bir müşteriye ilişkin bilgileri içerir.\n",
    "\n",
    "Amacımız, diğer sütunlardaki değerleri kullanarak \"ücretler\" sütunundaki değeri tahmin etmenin bir yolunu bulmaktır. Bunu geçmiş veriler için yapabilirsek, o zaman sadece yaş, cinsiyet, BMI, no gibi bilgileri sorarak yeni müşterilerin ücretlerini de tahmin edebilmeliyiz. çocukların sigara içme alışkanlıkları ve bölgeleri.\n",
    "\n",
    "Her sütun için veri türünü kontrol edelim:"
   ]
  },
  {
   "cell_type": "code",
   "execution_count": null,
   "id": "13e39fd6-0ca7-41b0-a392-4784cb253a3b",
   "metadata": {},
   "outputs": [],
   "source": [
    "medical_df.info()"
   ]
  },
  {
   "cell_type": "markdown",
   "id": "53179c88-7904-40c2-aac7-1b46e90a1292",
   "metadata": {},
   "source": [
    "Görünüşe göre \"yaş\", \"çocuklar\", \"bmi\" (vücut kitle indeksi) ve \"ücretler\" sayılardır; \"cinsiyet\", \"sigara içen\" ve \"bölge\" ise dizelerdir (muhtemelen kategoriler). \n",
    "\n",
    "Sütunların hiçbiri eksik değer içermiyor, bu da bizi büyük bir iş tasarrufundan kurtarıyor!\n",
    "\n",
    "Sayısal sütunlara ilişkin bazı istatistikler şunlardır:"
   ]
  },
  {
   "cell_type": "code",
   "execution_count": null,
   "id": "d8661bc6-66f3-43e3-a0f1-a4b9a7a4d150",
   "metadata": {},
   "outputs": [],
   "source": [
    "medical_df.describe()"
   ]
  },
  {
   "cell_type": "raw",
   "id": "74b17dac-7f8c-4af4-9456-1b0391b6f92b",
   "metadata": {},
   "source": [
    "Sayısal sütunlardaki değer aralıkları da makul görünüyor (negatif yaşlar yok!), dolayısıyla çok fazla veri temizleme veya düzeltme yapmamız gerekmeyebilir. Ancak medyan (yüzde 50) maksimum değerden çok daha düşük olduğundan \"ücretler\" sütunu önemli ölçüde çarpık görünüyor.\n",
    "\n",
    "ALIŞTIRMA: Yukarıdaki tabloya bakarak başka ne gibi çıkarımlar yapabilirsiniz? Çıkarımlarınızı aşağıya ekleyin:\n",
    "\n",
    "1. 50 yaş üstünde sigorta ettirenler diğerlerine göre azınlıkta, nedeni ne olabilir?\n",
    "2. ortala bir çocukları var\n",
    "3. tipik Amerikali diyabet adayları"
   ]
  },
  {
   "cell_type": "raw",
   "id": "198c2fe1-a299-49ea-bb29-b57bec7d5211",
   "metadata": {},
   "source": [
    "Keşifsel Analiz ve Görselleştirme\n",
    "\n",
    "Veri kümesinin bazı sütunlarındaki değerlerin dağılımını ve \"ücretler\" ile diğer sütunlar arasındaki ilişkileri görselleştirerek verileri keşfedelim.\n",
    "\n",
    "Görselleştirme için Matplotlib, Seaborn ve Plotly kütüphanelerini kullanacağız."
   ]
  },
  {
   "cell_type": "code",
   "execution_count": null,
   "id": "8d887a4f-9935-4bd4-aca6-fde5943fca46",
   "metadata": {},
   "outputs": [],
   "source": [
    "!pip3 install plotly matplotlib seaborn --quiet"
   ]
  },
  {
   "cell_type": "code",
   "execution_count": null,
   "id": "e43c3eda-88e7-4040-ab86-35c3a3355d9e",
   "metadata": {},
   "outputs": [],
   "source": [
    "import plotly.express as px\n",
    "import matplotlib\n",
    "import matplotlib.pyplot as plt\n",
    "import seaborn as sns\n",
    "%matplotlib inline"
   ]
  },
  {
   "cell_type": "raw",
   "id": "a0b0b308-7b79-48a5-93a5-38bbeb7beccc",
   "metadata": {},
   "source": [
    "Aşağıdaki ayarlar, grafiklerimiz için varsayılan stili ve yazı tipi boyutlarını iyileştirecektir."
   ]
  },
  {
   "cell_type": "code",
   "execution_count": null,
   "id": "9b8f3216-b5f7-4693-a901-24c707128d49",
   "metadata": {},
   "outputs": [],
   "source": [
    "# sns.set_style('darkgrid')\n",
    "# matplotlib.rcParams['font.size'] = 14\n",
    "# matplotlib.rcParams['figure.figsize'] = (10, 6)\n",
    "# matplotlib.rcParams['figure.facecolor'] = '#00000000'"
   ]
  },
  {
   "cell_type": "raw",
   "id": "76f9a202-02fd-4fda-8ea1-332db807a98e",
   "metadata": {},
   "source": [
    "Yaş\n",
    "\n",
    "Yaş sayısal bir sütundur. Veri setindeki minimum yaş 18, maksimum yaş ise 64'tür. Böylece 47 kutulu (her yıl için bir tane) histogram ve kutu grafiği kullanarak yaş dağılımını görselleştirebiliriz. Grafiği etkileşimli hale getirmek için komployu kullanacağız, ancak Seaborn'u kullanarak da benzer grafikler oluşturabilirsiniz."
   ]
  },
  {
   "cell_type": "code",
   "execution_count": null,
   "id": "3f325d5b-0962-49f3-b416-5766cbcc7943",
   "metadata": {},
   "outputs": [],
   "source": [
    "medical_df.age.describe()"
   ]
  },
  {
   "cell_type": "markdown",
   "id": "ea4ac71d",
   "metadata": {},
   "source": []
  },
  {
   "cell_type": "code",
   "execution_count": null,
   "id": "4aee8b0c-6dfb-40cc-b02e-4aa2102194df",
   "metadata": {},
   "outputs": [],
   "source": [
    "fig = px.histogram(medical_df, \n",
    "                   x='age', \n",
    "                   marginal='box', \n",
    "                   nbins=47, \n",
    "                   title='Yaş Dağılımı')\n",
    "fig.update_layout(bargap=0.1)\n",
    "fig.show()"
   ]
  },
  {
   "cell_type": "raw",
   "id": "a8c4b014-8a01-48ec-a052-7bc0864ed5b9",
   "metadata": {},
   "source": [
    "Veri kümesindeki yaş dağılımı neredeyse tekdüze; her yaşta 20-30 müşteri var; diğer yaş gruplarının iki katından fazla müşteriye sahip olduğu görülen 18 ve 19 yaşları hariç. Tekdüze dağılım, ABD'de herhangi bir yaştaki (18 ile 64 arası) insan sayısında büyük bir farklılık olmamasından kaynaklanıyor olabilir.\n",
    "\n",
    "ALIŞTIRMA: Diğer yaşlarla karşılaştırıldığında neden 18 ve 19 yaş grubundaki müşteri sayısının iki katından fazla olduğunu açıklayabilir misiniz?\n",
    "\n",
    "Sigorta primleri daha ucuz olabilir, ilk işe girişleri ile alakalı olabilir."
   ]
  },
  {
   "cell_type": "raw",
   "id": "df4e8096-fac4-47c9-a905-7396f6859f31",
   "metadata": {},
   "source": [
    "Vücut Kitle İndeksi\n",
    "Histogram ve kutu grafiği kullanarak müşterilerin BMI (Vücut Kitle İndeksi) dağılımına bakalım."
   ]
  },
  {
   "cell_type": "code",
   "execution_count": null,
   "id": "dc0f2c82-5639-4429-9815-6d39b5098024",
   "metadata": {},
   "outputs": [],
   "source": [
    "fig = px.histogram(medical_df, \n",
    "                   x='bmi', \n",
    "                   marginal='box', \n",
    "                   color_discrete_sequence=['red'], \n",
    "                   title='Distribution of BMI (Body Mass Index)')\n",
    "fig.update_layout(bargap=0.1)\n",
    "fig.show()"
   ]
  },
  {
   "cell_type": "raw",
   "id": "85beee9d-2376-4ed0-9362-a68c222363cb",
   "metadata": {
    "vscode": {
     "languageId": "raw"
    }
   },
   "source": [
    "Vücut kitle indeksi ölçümleri, birkaç aykırı değer sağa doğru olmak üzere, 30 değeri etrafında merkezlenmiş bir Gauss dağılımı oluşturuyor gibi görünmektedir. BMI değerleri şu şekilde yorumlanabilir:\n",
    "\n",
    "bmi < 18.5       --> zayıf\n",
    "18.5 <= bmi < 25 --> normal\n",
    "25 <= bmi < 30   --> kilolu\n",
    "30 <= bmi < 40   --> obez\n",
    "bmi >= 40        --> morbid obez\n",
    "\n",
    "ALIŞTIRMA: BMI dağılımının Gaussian dağılım gösterdiği halde, yaş dağılımının neden düzgün bir dağılım oluşturduğunu açıklayabilir misiniz?\n",
    "\n",
    "???"
   ]
  },
  {
   "cell_type": "raw",
   "id": "2dba998c-9037-4d9d-b3be-4524c61fd34a",
   "metadata": {},
   "source": [
    "Ücretler\n",
    "\"Ücretler\" dağılımını görselleştirelim; Müşteriler için yıllık tıbbi masraflar. Tahmin etmeye çalıştığımız sütun bu. Sigara içenlere ve içmeyenlere yönelik ücretleri birbirinden ayırmak için \"sigara içen\" kategorik sütununu da kullanalım."
   ]
  },
  {
   "cell_type": "code",
   "execution_count": null,
   "id": "ba801eef-19fe-4504-b8df-0124d80d950c",
   "metadata": {},
   "outputs": [],
   "source": [
    "fig = px.histogram(medical_df, \n",
    "                   x='region', \n",
    "                   y=\"charges\",\n",
    "                   marginal='box', \n",
    "                   color='smoker', \n",
    "                   color_discrete_sequence=['green', 'grey', \"blue\", \"black\"], \n",
    "                   title='Yıllık Medikal Ücretler')\n",
    "fig.update_layout(bargap=0.1)\n",
    "fig.show()"
   ]
  },
  {
   "cell_type": "raw",
   "id": "f689cad9-10e7-4aaf-8fb2-14838be78019",
   "metadata": {},
   "source": [
    "Yukarıdaki grafikten şu gözlemleri yapabiliriz:\n",
    "\n",
    "Çoğu müşteri için yıllık tıbbi masraflar 10.000 doların altındadır. Müşterilerin yalnızca küçük bir kısmı, muhtemelen kazalar, önemli hastalıklar ve genetik hastalıklar nedeniyle daha yüksek tıbbi harcamalara maruz kalıyor. Dağıtım bir \"güç yasasını\" takip ediyor\n",
    "Sigara içenlerle içmeyenler arasında tıbbi harcamalarda önemli bir fark vardır. \n",
    "Sigara içmeyenler için medyan 7300\n",
    "Sigara içenler için medyan yakınlarda 35.000.\n",
    "\n",
    "EGZERSİZ: \"Cinsiyet\" ve \"bölge\" gibi diğer faktörlerle bağlantılı olarak tıbbi masrafların dağılımını gözünüzde canlandırın. Ne gözlemliyorsunuz?"
   ]
  },
  {
   "cell_type": "code",
   "execution_count": null,
   "id": "b7c8d799-8962-4cc9-8030-015ce2dd31fd",
   "metadata": {},
   "outputs": [],
   "source": [
    "medical_df.smoker.value_counts()"
   ]
  },
  {
   "cell_type": "raw",
   "id": "199bc62d-812a-4be6-9c6e-82f75af126de",
   "metadata": {},
   "source": [
    "Sigara İçenler\n",
    "Bir histogram kullanarak \"sigara içenler\" sütununun (\"evet\" ve \"hayır\" değerlerini içeren) dağılımını görselleştirelim."
   ]
  },
  {
   "cell_type": "code",
   "execution_count": null,
   "id": "ace46a72-e0be-42bd-b2cc-104d12a09b00",
   "metadata": {},
   "outputs": [],
   "source": [
    "px.histogram(medical_df, x='smoker', color='sex', title='Sigara İçenler')"
   ]
  },
  {
   "cell_type": "raw",
   "id": "374b4ee9-7004-4732-9f47-b5c3328166d9",
   "metadata": {},
   "source": [
    "Müşterilerin %20'sinin sigara içtiğini bildirdiği görülüyor. Verilerin 2010 yılında toplandığını varsayarsak, bunun ulusal ortalamayla eşleşip eşleşmediğini doğrulayabilir misiniz? Sigara içmenin erkekler arasında daha yaygın bir alışkanlık olduğunu da görüyoruz. Bunu doğrulayabilir misiniz?\n",
    "\n",
    "ALIŞTIRMA: \"Cinsiyet\", \"bölge\" ve \"çocuklar\" sütunlarının dağılımlarını görselleştirin ve gözlemlerinizi raporlayın."
   ]
  },
  {
   "cell_type": "raw",
   "id": "bb5e41b9-40c5-4782-a7bc-64e29e655ec5",
   "metadata": {},
   "source": [
    "Tek tek sütunlara baktıktan sonra artık \"ücretler\" (tahmin etmek istediğimiz değer) ile diğer sütunlar arasındaki ilişkiyi görselleştirebiliriz. \n",
    "\n",
    "Yaş ve Ücretler\n",
    "\n",
    "Bir dağılım grafiği kullanarak \"yaş\" ve \"ücretler\" arasındaki ilişkiyi görselleştirelim. Dağılım grafiğindeki her nokta bir müşteriyi temsil eder. Noktaları renklendirmek için \"sigara içen\" sütunundaki değerleri de kullanacağız."
   ]
  },
  {
   "cell_type": "code",
   "execution_count": null,
   "id": "5e7a71af-6313-4f18-80dd-3643a83cce41",
   "metadata": {},
   "outputs": [],
   "source": [
    "fig = px.scatter(medical_df, \n",
    "                 x='age', \n",
    "                 y='charges', \n",
    "                 color='smoker', \n",
    "                 opacity=0.8, \n",
    "                 hover_data=['sex'], \n",
    "                 title='Yaş vs. Ücretler')\n",
    "fig.update_traces(marker_size=5)\n",
    "fig.show()"
   ]
  },
  {
   "cell_type": "raw",
   "id": "01b4bd6f-89f3-4d65-9553-e2bd13ac1604",
   "metadata": {},
   "source": [
    "Yukarıdaki tablodan şu gözlemleri yapabiliriz:\n",
    "\n",
    "Genel eğilim, tahmin edebileceğimiz gibi, tıbbi masrafların yaşla birlikte artması yönünde görünüyor. Ancak her yaşta önemli farklılıklar vardır ve tıbbi masrafları doğru bir şekilde belirlemek için yaşın tek başına kullanılamayacağı açıktır.\n",
    "\n",
    "Her biri artan eğime sahip bir çizgi oluşturuyor gibi görünen üç \"nokta kümesi\" görebiliriz:\n",
    "\n",
    "İlk ve en büyük küme, diğerlerine kıyasla nispeten düşük sağlık harcamalarına sahip olan, muhtemelen \"sağlıklı sigara içmeyenlerden\" oluşuyor\n",
    "\n",
    "İkinci kümede sigara içen ve içmeyenlerin bir karışımı yer alıyor. Bunların aslında iki ayrı fakat örtüşen küme olması mümkündür: \"tıbbi sorunları olan sigara içmeyenler\" ve \"önemli tıbbi sorunları olmayan sigara içenler\".\n",
    "\n",
    "Son grup, yalnızca sigara içenlerden, muhtemelen sigarayla ilişkili veya sigarayla kötüleşen önemli tıbbi sorunları olan sigara içenlerden oluşuyor.\n",
    "\n",
    "ALIŞTIRMA: Yukarıdaki tablodan başka ne gibi çıkarımlar yapabilirsiniz?\n",
    "\n",
    "???"
   ]
  },
  {
   "cell_type": "raw",
   "id": "2f76b199-b67a-4113-b622-17ef3b7a4add",
   "metadata": {},
   "source": [
    "BMI ve Ücretler\n",
    "\n",
    "Başka bir dağılım grafiği kullanarak BMI (vücut kitle indeksi) ile yükler arasındaki ilişkiyi görselleştirelim. Bir kez daha noktaları renklendirmek için \"sigara içen\" sütunundaki değerleri kullanacağız."
   ]
  },
  {
   "cell_type": "code",
   "execution_count": null,
   "id": "0aaad7a8-d5cd-46c4-a441-e4dd0385adca",
   "metadata": {},
   "outputs": [],
   "source": [
    "fig = px.scatter(medical_df, \n",
    "                 x='bmi', \n",
    "                 y='charges', \n",
    "                 color='smoker', \n",
    "                 opacity=0.8, \n",
    "                 hover_data=['sex'], \n",
    "                 title='BMI vs. Ücretler')\n",
    "fig.update_traces(marker_size=5)\n",
    "fig.show()"
   ]
  },
  {
   "cell_type": "raw",
   "id": "83975275-f16d-49a5-a476-6a5b84b6bc3d",
   "metadata": {
    "vscode": {
     "languageId": "raw"
    }
   },
   "source": [
    "Sigara içmeyenler için BMI'daki artışın tıbbi masraflardaki artışla ilişkili olmadığı görülüyor. Bununla birlikte, BMI'si 30'un üzerinde olan sigara içenler için tıbbi masraflar önemli ölçüde daha yüksek görünmektedir.\n",
    "\n",
    "Yukarıdaki grafikten başka hangi bilgileri edinebilirsiniz?\n",
    "\n",
    "ALIŞTIRMA: \"Ücretler\" sütununun diğer sütunlarla (\"çocuklar\", \"cinsiyet\", \"bölge\" ve \"sigara içen\") nasıl ilişkili olduğunu görselleştirmek için birkaç grafik daha oluşturun. Bu grafiklerden elde edilen bilgileri özetleyin.\n",
    "\n",
    "İpucu: Keman grafiklerini (px.violin) ve çubuk grafiklerini (sns.barplot) kullanın."
   ]
  },
  {
   "cell_type": "code",
   "execution_count": null,
   "id": "ffe7a2eb",
   "metadata": {},
   "outputs": [],
   "source": [
    "sns.violinplot(medical_df, x=\"age\", y=\"region\")"
   ]
  },
  {
   "cell_type": "code",
   "execution_count": null,
   "id": "1c5b02de",
   "metadata": {},
   "outputs": [],
   "source": [
    "sns.violinplot(medical_df, x=\"children\", y=\"sex\")"
   ]
  },
  {
   "cell_type": "code",
   "execution_count": null,
   "id": "945725ae",
   "metadata": {},
   "outputs": [],
   "source": [
    "sns.violinplot(medical_df, x=\"children\", y=\"smoker\", hue=\"region\")"
   ]
  },
  {
   "cell_type": "code",
   "execution_count": null,
   "id": "d5f54023",
   "metadata": {},
   "outputs": [],
   "source": [
    "sns.barplot(medical_df, x=\"sex\", y=\"children\")"
   ]
  },
  {
   "cell_type": "raw",
   "id": "6bf7d87c-de9f-407e-9ac9-3da7acac39d0",
   "metadata": {},
   "source": [
    "Korelasyon\n",
    "\n",
    "Analizden de anlaşılabileceği gibi bazı sütunlardaki değerler diğer sütunlara göre \"ücretler\"deki değerlerle daha yakından ilişkilidir. Örneğin. \"yaş\" ve \"ücretler\" birlikte büyüyor gibi görünürken \"bmi\" ve \"ücretler\" birlikte büyümüyor.\n",
    "\n",
    "Bu ilişki genellikle, Pandas serisinin .corr yöntemi kullanılarak hesaplanabilen, korelasyon katsayısı adı verilen bir ölçü kullanılarak sayısal olarak ifade edilir."
   ]
  },
  {
   "cell_type": "code",
   "execution_count": null,
   "id": "32858069-eacd-43c1-94fc-6626bdf76ade",
   "metadata": {},
   "outputs": [],
   "source": [
    "medical_df.charges.corr(medical_df.age)"
   ]
  },
  {
   "cell_type": "code",
   "execution_count": null,
   "id": "e124d12a-8f87-4b89-9322-9a393621707e",
   "metadata": {},
   "outputs": [],
   "source": [
    "medical_df.charges.corr(medical_df.bmi)"
   ]
  },
  {
   "cell_type": "raw",
   "id": "288ad559-b206-4054-9b1e-2365d87a4b96",
   "metadata": {},
   "source": [
    "Kategorik sütunların korelasyonunu hesaplamak için öncelikle bunların sayısal sütunlara dönüştürülmesi gerekir."
   ]
  },
  {
   "cell_type": "code",
   "execution_count": null,
   "id": "c99af026-2e19-4198-b7bb-fd7d0f5ee93e",
   "metadata": {},
   "outputs": [],
   "source": [
    "smoker_values = {'no': 0, 'yes': 1}\n",
    "smoker_numeric = medical_df.smoker.map(smoker_values)\n",
    "medical_df.charges.corr(smoker_numeric)"
   ]
  },
  {
   "cell_type": "raw",
   "id": "10b20059-85b8-4172-bad8-cc9c45b6a067",
   "metadata": {},
   "source": [
    "Korelasyon katsayılarının nasıl yorumlanabileceği aşağıda açıklanmıştır (kaynak):\n",
    "\n",
    "Güç: Korelasyon katsayısının mutlak değeri ne kadar büyükse, ilişki o kadar güçlüdür.\n",
    "\n",
    "-1 ve 1'in uç değerleri, bir değişkendeki değişime diğerinde tamamen tutarlı bir değişimin eşlik ettiği mükemmel doğrusal bir ilişkiyi gösterir. Bu ilişkiler için tüm veri noktaları bir çizgi üzerinde yer alır. Pratikte her iki mükemmel ilişki türünü de göremezsiniz.\n",
    "\n",
    "Sıfır katsayısı doğrusal bir ilişki olmadığını temsil eder. Değişkenlerden biri artarken diğer değişkende artma veya azalma eğilimi yoktur.\n",
    "\n",
    "Değer 0 ile +1/-1 arasında olduğunda bir ilişki vardır ancak noktaların hepsi bir doğru üzerine düşmez. r -1 veya 1'e yaklaştıkça ilişkinin gücü artar ve veri noktaları bir çizgiye yaklaşma eğilimi gösterir.\n",
    "\n",
    "Yön: Korelasyon katsayısının işareti ilişkinin yönünü temsil eder.\n",
    "\n",
    "Pozitif katsayılar, bir değişkenin değeri arttığında diğer değişkenin değerinin de artma eğiliminde olduğunu gösterir. Pozitif ilişkiler dağılım grafiğinde yukarı doğru bir eğim oluşturur.\n",
    "\n",
    "Negatif katsayılar, bir değişkenin değerinin arttığı, diğer değişkenin değerinin düşme eğiliminde olduğu durumları temsil eder. Negatif ilişkiler aşağı doğru bir eğim yaratır."
   ]
  },
  {
   "cell_type": "code",
   "execution_count": null,
   "id": "25932096-5c35-4074-b223-e8de8990ed04",
   "metadata": {},
   "outputs": [],
   "source": [
    "medical_df.corr(numeric_only = True)"
   ]
  },
  {
   "cell_type": "raw",
   "id": "60b4a65c-1b32-48c2-8339-02c57dd1ce7f",
   "metadata": {},
   "source": [
    ".corr fonksiyonunun sonucuna korelasyon matrisi denir ve genellikle bir ısı haritası kullanılarak görselleştirilir."
   ]
  },
  {
   "cell_type": "code",
   "execution_count": null,
   "id": "d475b061-72dd-4be9-85eb-f8cf4e7fc56f",
   "metadata": {},
   "outputs": [],
   "source": [
    "sns.heatmap(medical_df.corr(numeric_only = True), cmap='Greens', annot=True)\n",
    "plt.title('Correlation Matrix')"
   ]
  },
  {
   "cell_type": "code",
   "execution_count": null,
   "id": "4e7cd938-6edc-45ad-9dcc-9f9efb7ae8c4",
   "metadata": {},
   "outputs": [],
   "source": [
    "non_smoker_df = medical_df[medical_df.smoker == 'no']\n",
    "non_smoker_df"
   ]
  },
  {
   "cell_type": "code",
   "execution_count": null,
   "id": "239c9296",
   "metadata": {},
   "outputs": [],
   "source": [
    "plt.title(\"Yaş vs. Ücretler\")\n",
    "sns.scatterplot(data=non_smoker_df, x=\"age\", y=\"charges\", alpha=0.7, s=15)"
   ]
  },
  {
   "cell_type": "code",
   "execution_count": null,
   "id": "371c52fe",
   "metadata": {},
   "outputs": [],
   "source": [
    "!pip install scikit-learn --quiet"
   ]
  },
  {
   "cell_type": "code",
   "execution_count": null,
   "id": "da8ea6e8",
   "metadata": {},
   "outputs": [],
   "source": [
    "from sklearn.linear_model import LinearRegression\n",
    "from sklearn.model_selection import train_test_split\n",
    "\n",
    "model = LinearRegression()"
   ]
  },
  {
   "cell_type": "code",
   "execution_count": null,
   "id": "a873b73f",
   "metadata": {},
   "outputs": [],
   "source": [
    "inputs, targets = non_smoker_df[[\"age\", \"bmi\"]], non_smoker_df.charges\n",
    "X_train, X_test, y_train, y_test = train_test_split(inputs, targets, test_size=0.2, random_state=42)"
   ]
  },
  {
   "cell_type": "code",
   "execution_count": null,
   "id": "42a0cae4",
   "metadata": {},
   "outputs": [],
   "source": [
    "linear_model = model.fit(X_train, y_train)\n",
    "# Katsayıları ve sabit terimi al\n",
    "coefficients = linear_model.coef_\n",
    "intercept = linear_model.intercept_"
   ]
  },
  {
   "cell_type": "code",
   "execution_count": null,
   "id": "5b7c9022",
   "metadata": {},
   "outputs": [],
   "source": [
    "coefficients"
   ]
  },
  {
   "cell_type": "code",
   "execution_count": null,
   "id": "72765551",
   "metadata": {},
   "outputs": [],
   "source": [
    "intercept"
   ]
  },
  {
   "cell_type": "code",
   "execution_count": null,
   "id": "e3d85172",
   "metadata": {},
   "outputs": [],
   "source": [
    "predictions = linear_model.predict(X_test)"
   ]
  },
  {
   "cell_type": "code",
   "execution_count": null,
   "id": "028eda7c",
   "metadata": {},
   "outputs": [],
   "source": [
    "fig = px.scatter(x=X_test.age, y=y_test, title=\"BMI vs. Ücretler\")\n",
    "fig.show()"
   ]
  },
  {
   "cell_type": "code",
   "execution_count": null,
   "id": "6b082925",
   "metadata": {},
   "outputs": [],
   "source": [
    "fig = px.scatter_3d(non_smoker_df, x=\"age\", y=\"bmi\", z=\"charges\")\n",
    "fig.update_traces(marker_size=3, marker_opacity=.5)\n",
    "fig.show()"
   ]
  },
  {
   "cell_type": "code",
   "execution_count": null,
   "id": "cbbda62e",
   "metadata": {},
   "outputs": [],
   "source": []
  },
  {
   "cell_type": "code",
   "execution_count": null,
   "id": "7d89277a",
   "metadata": {},
   "outputs": [],
   "source": [
    "inputs, targets = non_smoker_df[[\"bmi\"]], non_smoker_df.charges\n",
    "model = model.fit(inputs, targets)"
   ]
  },
  {
   "cell_type": "code",
   "execution_count": null,
   "id": "a3be2198",
   "metadata": {},
   "outputs": [],
   "source": [
    "model.coef_, model.intercept_"
   ]
  },
  {
   "cell_type": "code",
   "execution_count": null,
   "id": "e2f03fb7",
   "metadata": {},
   "outputs": [],
   "source": [
    "predictions = model.predict(inputs)"
   ]
  },
  {
   "cell_type": "code",
   "execution_count": null,
   "id": "c15c6f94",
   "metadata": {},
   "outputs": [],
   "source": []
  },
  {
   "cell_type": "code",
   "execution_count": null,
   "id": "46162170",
   "metadata": {},
   "outputs": [],
   "source": [
    "smoker_values = {'no': 0, 'yes': 1}\n",
    "medical_df[\"smoker_code\"] = medical_df.smoker.map(smoker_values)"
   ]
  },
  {
   "cell_type": "code",
   "execution_count": null,
   "id": "7c4d7561",
   "metadata": {},
   "outputs": [],
   "source": [
    "medical_df.charges.corr(medical_df[\"smoker_code\"])"
   ]
  },
  {
   "cell_type": "code",
   "execution_count": null,
   "id": "dec6c635",
   "metadata": {},
   "outputs": [],
   "source": [
    "sex_codes = {'female': 0, 'male': 1}\n",
    "medical_df[\"sex_code\"] = medical_df.sex.map(sex_codes)"
   ]
  },
  {
   "cell_type": "code",
   "execution_count": null,
   "id": "a404b4e7",
   "metadata": {},
   "outputs": [],
   "source": [
    "medical_df.charges.corr(medical_df[\"sex_code\"])"
   ]
  },
  {
   "cell_type": "code",
   "execution_count": null,
   "id": "76e92297",
   "metadata": {},
   "outputs": [],
   "source": [
    "inputs, targets = medical_df[[\"age\", \"bmi\",\"children\", \"smoker_code\", \"sex_code\"]], medical_df[\"charges\"]\n",
    "model = LinearRegression().fit(inputs, targets)\n",
    "predictions = model.predict(inputs)\n",
    "loss = rmse(targets, predictions)\n",
    "loss"
   ]
  },
  {
   "cell_type": "code",
   "execution_count": null,
   "id": "8b8d454a",
   "metadata": {},
   "outputs": [],
   "source": [
    "sns.barplot(medical_df, x=\"sex\", y=\"charges\")"
   ]
  },
  {
   "cell_type": "code",
   "execution_count": null,
   "id": "92b7d0ac",
   "metadata": {},
   "outputs": [],
   "source": [
    "sns.barplot(medical_df, x=\"region\", y=\"charges\")"
   ]
  },
  {
   "cell_type": "code",
   "execution_count": null,
   "id": "a73c088d",
   "metadata": {},
   "outputs": [],
   "source": [
    "from sklearn import preprocessing\n",
    "enc = preprocessing.OneHotEncoder()\n",
    "enc.fit(medical_df[[\"region\"]])\n",
    "enc.categories_"
   ]
  },
  {
   "cell_type": "code",
   "execution_count": null,
   "id": "ef64e96a",
   "metadata": {},
   "outputs": [],
   "source": [
    "one_hot = enc.transform(medical_df[[\"region\"]]).toarray()\n",
    "one_hot"
   ]
  },
  {
   "cell_type": "code",
   "execution_count": null,
   "id": "127491e7",
   "metadata": {},
   "outputs": [],
   "source": [
    "medical_df[['northeast', 'northwest', 'southeast', 'southwest']] = one_hot\n",
    "medical_df"
   ]
  },
  {
   "cell_type": "code",
   "execution_count": null,
   "id": "7ff59304",
   "metadata": {},
   "outputs": [],
   "source": [
    "# inputs = medical_df.drop(columns=[\"age\", \"sex\", \"smoker\", \"region\"])\n",
    "input_cols = ['age','bmi','children','smoker_code','sex_code', 'northeast', 'northwest', 'southeast', 'southwest']\n",
    "inputs = medical_df[input_cols]\n",
    "targets = medical_df[\"charges\"]\n",
    "model = LinearRegression().fit(inputs, targets)\n",
    "predictions = model.predict(inputs)\n",
    "loss = rmse(targets, predictions)\n",
    "loss"
   ]
  },
  {
   "cell_type": "code",
   "execution_count": null,
   "id": "3578298a",
   "metadata": {},
   "outputs": [],
   "source": [
    "weights_df = pd.DataFrame({\n",
    "  'feature': np.append(input_cols, \"Sabit\"),\n",
    "  'weight': np.append(model.coef_, model.intercept_)\n",
    "})\n",
    "weights_df"
   ]
  },
  {
   "cell_type": "code",
   "execution_count": null,
   "id": "0c188046",
   "metadata": {},
   "outputs": [],
   "source": [
    "from sklearn.preprocessing import StandardScaler\n",
    "numeric_cols = [\"age\", \"bmi\", \"children\"]\n",
    "scaler = StandardScaler()\n",
    "scaler.fit(medical_df[numeric_cols])"
   ]
  },
  {
   "cell_type": "code",
   "execution_count": null,
   "id": "5c9e07c2",
   "metadata": {},
   "outputs": [],
   "source": [
    "scaler.mean_"
   ]
  },
  {
   "cell_type": "code",
   "execution_count": null,
   "id": "fc5d9e2a",
   "metadata": {},
   "outputs": [],
   "source": [
    "scaler.var_"
   ]
  },
  {
   "cell_type": "code",
   "execution_count": null,
   "id": "4b5b4cde",
   "metadata": {},
   "outputs": [],
   "source": [
    "scaled_inputs = scaler.transform(medical_df[numeric_cols])\n",
    "scaled_inputs"
   ]
  },
  {
   "cell_type": "code",
   "execution_count": null,
   "id": "21cab457",
   "metadata": {},
   "outputs": [],
   "source": [
    "cat_cols = [\"smoker_code\", \"sex_code\", 'northeast', 'northwest', 'southeast', 'southwest']\n",
    "categorical_data = medical_df[cat_cols].values"
   ]
  },
  {
   "cell_type": "code",
   "execution_count": null,
   "id": "b3d5e5e3",
   "metadata": {},
   "outputs": [],
   "source": [
    "inputs = np.concatenate((scaled_inputs, categorical_data), axis=1)\n",
    "targets = medical_df.charges\n",
    "\n",
    "model = LinearRegression().fit(inputs, targets)\n",
    "\n",
    "predictions = model.predict(inputs)\n",
    "\n",
    "loss = rmse(targets, predictions)\n",
    "loss"
   ]
  },
  {
   "cell_type": "code",
   "execution_count": null,
   "id": "13323604",
   "metadata": {},
   "outputs": [],
   "source": [
    "weights_df = pd.DataFrame({\n",
    "  'feature': np.append(numeric_cols + cat_cols, \"Sabit\"),\n",
    "  'weight': np.append(model.coef_, model.intercept_)\n",
    "})\n",
    "weights_df.sort_values(\"weight\", ascending=False)"
   ]
  },
  {
   "cell_type": "code",
   "execution_count": null,
   "id": "debf477e",
   "metadata": {},
   "outputs": [],
   "source": [
    "scaled_inputs, categorical_data"
   ]
  },
  {
   "cell_type": "code",
   "execution_count": null,
   "id": "3c5ce24b",
   "metadata": {},
   "outputs": [],
   "source": [
    "from sklearn.model_selection import train_test_split\n",
    "inputs_train, inputs_test, targets_train, targets_test = train_test_split(inputs, targets, test_size=0.1, random_state=42)"
   ]
  },
  {
   "cell_type": "code",
   "execution_count": null,
   "id": "723dc127",
   "metadata": {},
   "outputs": [],
   "source": [
    "model = LinearRegression().fit(inputs_train, targets_train)\n",
    "predictions_test = model.predict(inputs_test)\n",
    "loss = rmse(targets_test, predictions_test)\n",
    "loss"
   ]
  }
 ],
 "metadata": {
  "kernelspec": {
   "display_name": "Python 3 (ipykernel)",
   "language": "python",
   "name": "python3"
  },
  "language_info": {
   "codemirror_mode": {
    "name": "ipython",
    "version": 3
   },
   "file_extension": ".py",
   "mimetype": "text/x-python",
   "name": "python",
   "nbconvert_exporter": "python",
   "pygments_lexer": "ipython3",
   "version": "3.11.7"
  }
 },
 "nbformat": 4,
 "nbformat_minor": 5
}
